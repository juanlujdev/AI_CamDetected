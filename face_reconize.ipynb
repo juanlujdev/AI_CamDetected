{
 "cells": [
  {
   "cell_type": "code",
   "execution_count": 8,
   "metadata": {},
   "outputs": [],
   "source": [
    "import face_recognition as fr\n",
    "import os\n",
    "import cv2\n",
    "import numpy as np\n",
    "from time import sleep"
   ]
  },
  {
   "attachments": {},
   "cell_type": "markdown",
   "metadata": {},
   "source": [
    "    looks through the faces folder and encodes all\n",
    "    the faces\n",
    "\n",
    "    :return: dict of (name, image encoded)"
   ]
  },
  {
   "cell_type": "code",
   "execution_count": 9,
   "metadata": {},
   "outputs": [],
   "source": [
    "cap = cv2.VideoCapture(0)"
   ]
  },
  {
   "cell_type": "code",
   "execution_count": 10,
   "metadata": {},
   "outputs": [],
   "source": [
    "def get_encoded_faces():\n",
    "\n",
    "    encoded = {}\n",
    "\n",
    "    for dirpath, dnames, fnames in os.walk(\"./faces\"):\n",
    "        for f in fnames:\n",
    "            if f.endswith(\".jpg\") or f.endswith(\".png\"):\n",
    "                face = fr.load_image_file(\"faces/\" + f)\n",
    "                encoding = fr.face_encodings(face)[0]\n",
    "                encoded[f.split(\".\")[0]] = encoding\n",
    "\n",
    "    return encoded\n"
   ]
  },
  {
   "attachments": {},
   "cell_type": "markdown",
   "metadata": {},
   "source": [
    "    encode a face given the file name"
   ]
  },
  {
   "cell_type": "code",
   "execution_count": 11,
   "metadata": {},
   "outputs": [],
   "source": [
    "def unknown_image_encoded(img):\n",
    "\n",
    "    face = fr.load_image_file(\"faces/\" + img)\n",
    "    encoding = fr.face_encodings(face)[0]\n",
    "\n",
    "    return encoding"
   ]
  },
  {
   "attachments": {},
   "cell_type": "markdown",
   "metadata": {},
   "source": [
    "    will find all of the faces in a given image and label\n",
    "    them if it knows what they are\n",
    "\n",
    "    :param im: str of file path\n",
    "    :return: list of face names"
   ]
  },
  {
   "cell_type": "code",
   "execution_count": 12,
   "metadata": {},
   "outputs": [],
   "source": [
    "def classify_face(frame):\n",
    "    faces = get_encoded_faces()\n",
    "    faces_encoded = list(faces.values())\n",
    "    known_face_names = list(faces.keys())\n",
    "\n",
    "    face_locations = fr.face_locations(frame)\n",
    "    unknown_face_encodings = fr.face_encodings(frame, face_locations)\n",
    "\n",
    "    face_names = []\n",
    "    for face_encoding in unknown_face_encodings:\n",
    "        matches = fr.compare_faces(faces_encoded, face_encoding)\n",
    "        name = \"Unknown\"\n",
    "\n",
    "        face_distances = fr.face_distance(faces_encoded, face_encoding)\n",
    "        best_match_index = np.argmin(face_distances)\n",
    "        if matches[best_match_index]:\n",
    "            name = known_face_names[best_match_index]\n",
    "\n",
    "        face_names.append(name)\n",
    "\n",
    "    return face_names"
   ]
  },
  {
   "cell_type": "code",
   "execution_count": 13,
   "metadata": {},
   "outputs": [],
   "source": [
    "def cam():\n",
    "    cap = cv2.VideoCapture(0)\n",
    "\n",
    "    while True:\n",
    "        ret, frame = cap.read()\n",
    "        if ret:\n",
    "            face_names = classify_face(frame)\n",
    "            for (top, right, bottom, left), name in zip(fr.face_locations(frame), face_names):\n",
    "                cv2.rectangle(frame, (left, top), (right, bottom), (0, 0, 255), 2)\n",
    "                cv2.rectangle(frame, (left, bottom - 35), (right, bottom), (0, 0, 255), cv2.FILLED)\n",
    "                font = cv2.FONT_HERSHEY_DUPLEX\n",
    "                cv2.putText(frame, name, (left + 6, bottom - 6), font, 1.0, (255, 255, 255), 1)\n",
    "\n",
    "            cv2.imshow(\"Preview\", frame)\n",
    "            if cv2.waitKey(1) == 27: # Presionar la tecla Esc para detener la vista previa\n",
    "                break\n",
    "    cap.release()\n",
    "    cv2.destroyAllWindows()\n"
   ]
  },
  {
   "cell_type": "code",
   "execution_count": 14,
   "metadata": {},
   "outputs": [
    {
     "ename": "KeyboardInterrupt",
     "evalue": "",
     "output_type": "error",
     "traceback": [
      "\u001b[1;31m---------------------------------------------------------------------------\u001b[0m",
      "\u001b[1;31mKeyboardInterrupt\u001b[0m                         Traceback (most recent call last)",
      "Cell \u001b[1;32mIn[14], line 1\u001b[0m\n\u001b[1;32m----> 1\u001b[0m cam()\n",
      "Cell \u001b[1;32mIn[13], line 7\u001b[0m, in \u001b[0;36mcam\u001b[1;34m()\u001b[0m\n\u001b[0;32m      5\u001b[0m ret, frame \u001b[39m=\u001b[39m cap\u001b[39m.\u001b[39mread()\n\u001b[0;32m      6\u001b[0m \u001b[39mif\u001b[39;00m ret:\n\u001b[1;32m----> 7\u001b[0m     face_names \u001b[39m=\u001b[39m classify_face(frame)\n\u001b[0;32m      8\u001b[0m     \u001b[39mfor\u001b[39;00m (top, right, bottom, left), name \u001b[39min\u001b[39;00m \u001b[39mzip\u001b[39m(fr\u001b[39m.\u001b[39mface_locations(frame), face_names):\n\u001b[0;32m      9\u001b[0m         cv2\u001b[39m.\u001b[39mrectangle(frame, (left, top), (right, bottom), (\u001b[39m0\u001b[39m, \u001b[39m0\u001b[39m, \u001b[39m255\u001b[39m), \u001b[39m2\u001b[39m)\n",
      "Cell \u001b[1;32mIn[12], line 2\u001b[0m, in \u001b[0;36mclassify_face\u001b[1;34m(frame)\u001b[0m\n\u001b[0;32m      1\u001b[0m \u001b[39mdef\u001b[39;00m \u001b[39mclassify_face\u001b[39m(frame):\n\u001b[1;32m----> 2\u001b[0m     faces \u001b[39m=\u001b[39m get_encoded_faces()\n\u001b[0;32m      3\u001b[0m     faces_encoded \u001b[39m=\u001b[39m \u001b[39mlist\u001b[39m(faces\u001b[39m.\u001b[39mvalues())\n\u001b[0;32m      4\u001b[0m     known_face_names \u001b[39m=\u001b[39m \u001b[39mlist\u001b[39m(faces\u001b[39m.\u001b[39mkeys())\n",
      "Cell \u001b[1;32mIn[10], line 9\u001b[0m, in \u001b[0;36mget_encoded_faces\u001b[1;34m()\u001b[0m\n\u001b[0;32m      7\u001b[0m         \u001b[39mif\u001b[39;00m f\u001b[39m.\u001b[39mendswith(\u001b[39m\"\u001b[39m\u001b[39m.jpg\u001b[39m\u001b[39m\"\u001b[39m) \u001b[39mor\u001b[39;00m f\u001b[39m.\u001b[39mendswith(\u001b[39m\"\u001b[39m\u001b[39m.png\u001b[39m\u001b[39m\"\u001b[39m):\n\u001b[0;32m      8\u001b[0m             face \u001b[39m=\u001b[39m fr\u001b[39m.\u001b[39mload_image_file(\u001b[39m\"\u001b[39m\u001b[39mfaces/\u001b[39m\u001b[39m\"\u001b[39m \u001b[39m+\u001b[39m f)\n\u001b[1;32m----> 9\u001b[0m             encoding \u001b[39m=\u001b[39m fr\u001b[39m.\u001b[39;49mface_encodings(face)[\u001b[39m0\u001b[39m]\n\u001b[0;32m     10\u001b[0m             encoded[f\u001b[39m.\u001b[39msplit(\u001b[39m\"\u001b[39m\u001b[39m.\u001b[39m\u001b[39m\"\u001b[39m)[\u001b[39m0\u001b[39m]] \u001b[39m=\u001b[39m encoding\n\u001b[0;32m     12\u001b[0m \u001b[39mreturn\u001b[39;00m encoded\n",
      "File \u001b[1;32mc:\\Users\\lujan\\anaconda3\\envs\\faceReconize\\Lib\\site-packages\\face_recognition\\api.py:213\u001b[0m, in \u001b[0;36mface_encodings\u001b[1;34m(face_image, known_face_locations, num_jitters, model)\u001b[0m\n\u001b[0;32m    203\u001b[0m \u001b[39mdef\u001b[39;00m \u001b[39mface_encodings\u001b[39m(face_image, known_face_locations\u001b[39m=\u001b[39m\u001b[39mNone\u001b[39;00m, num_jitters\u001b[39m=\u001b[39m\u001b[39m1\u001b[39m, model\u001b[39m=\u001b[39m\u001b[39m\"\u001b[39m\u001b[39msmall\u001b[39m\u001b[39m\"\u001b[39m):\n\u001b[0;32m    204\u001b[0m \u001b[39m    \u001b[39m\u001b[39m\"\"\"\u001b[39;00m\n\u001b[0;32m    205\u001b[0m \u001b[39m    Given an image, return the 128-dimension face encoding for each face in the image.\u001b[39;00m\n\u001b[0;32m    206\u001b[0m \n\u001b[1;32m   (...)\u001b[0m\n\u001b[0;32m    211\u001b[0m \u001b[39m    :return: A list of 128-dimensional face encodings (one for each face in the image)\u001b[39;00m\n\u001b[0;32m    212\u001b[0m \u001b[39m    \"\"\"\u001b[39;00m\n\u001b[1;32m--> 213\u001b[0m     raw_landmarks \u001b[39m=\u001b[39m _raw_face_landmarks(face_image, known_face_locations, model)\n\u001b[0;32m    214\u001b[0m     \u001b[39mreturn\u001b[39;00m [np\u001b[39m.\u001b[39marray(face_encoder\u001b[39m.\u001b[39mcompute_face_descriptor(face_image, raw_landmark_set, num_jitters)) \u001b[39mfor\u001b[39;00m raw_landmark_set \u001b[39min\u001b[39;00m raw_landmarks]\n",
      "File \u001b[1;32mc:\\Users\\lujan\\anaconda3\\envs\\faceReconize\\Lib\\site-packages\\face_recognition\\api.py:156\u001b[0m, in \u001b[0;36m_raw_face_landmarks\u001b[1;34m(face_image, face_locations, model)\u001b[0m\n\u001b[0;32m    154\u001b[0m \u001b[39mdef\u001b[39;00m \u001b[39m_raw_face_landmarks\u001b[39m(face_image, face_locations\u001b[39m=\u001b[39m\u001b[39mNone\u001b[39;00m, model\u001b[39m=\u001b[39m\u001b[39m\"\u001b[39m\u001b[39mlarge\u001b[39m\u001b[39m\"\u001b[39m):\n\u001b[0;32m    155\u001b[0m     \u001b[39mif\u001b[39;00m face_locations \u001b[39mis\u001b[39;00m \u001b[39mNone\u001b[39;00m:\n\u001b[1;32m--> 156\u001b[0m         face_locations \u001b[39m=\u001b[39m _raw_face_locations(face_image)\n\u001b[0;32m    157\u001b[0m     \u001b[39melse\u001b[39;00m:\n\u001b[0;32m    158\u001b[0m         face_locations \u001b[39m=\u001b[39m [_css_to_rect(face_location) \u001b[39mfor\u001b[39;00m face_location \u001b[39min\u001b[39;00m face_locations]\n",
      "File \u001b[1;32mc:\\Users\\lujan\\anaconda3\\envs\\faceReconize\\Lib\\site-packages\\face_recognition\\api.py:105\u001b[0m, in \u001b[0;36m_raw_face_locations\u001b[1;34m(img, number_of_times_to_upsample, model)\u001b[0m\n\u001b[0;32m    103\u001b[0m     \u001b[39mreturn\u001b[39;00m cnn_face_detector(img, number_of_times_to_upsample)\n\u001b[0;32m    104\u001b[0m \u001b[39melse\u001b[39;00m:\n\u001b[1;32m--> 105\u001b[0m     \u001b[39mreturn\u001b[39;00m face_detector(img, number_of_times_to_upsample)\n",
      "\u001b[1;31mKeyboardInterrupt\u001b[0m: "
     ]
    }
   ],
   "source": [
    "cam()"
   ]
  }
 ],
 "metadata": {
  "kernelspec": {
   "display_name": "faceReconize",
   "language": "python",
   "name": "python3"
  },
  "language_info": {
   "codemirror_mode": {
    "name": "ipython",
    "version": 3
   },
   "file_extension": ".py",
   "mimetype": "text/x-python",
   "name": "python",
   "nbconvert_exporter": "python",
   "pygments_lexer": "ipython3",
   "version": "3.11.0"
  },
  "orig_nbformat": 4,
  "vscode": {
   "interpreter": {
    "hash": "89e4c213597e6242d7875613df3c9bc11fa72b1ca6c8de44e96396757885adc3"
   }
  }
 },
 "nbformat": 4,
 "nbformat_minor": 2
}
